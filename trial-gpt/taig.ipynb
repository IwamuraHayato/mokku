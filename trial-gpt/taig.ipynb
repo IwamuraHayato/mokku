{
 "cells": [
  {
   "cell_type": "code",
   "execution_count": 1,
   "metadata": {},
   "outputs": [],
   "source": [
    "import csv\n",
    "from openai import OpenAI\n",
    "import os\n",
    "import re\n",
    "\n",
    "# OPENAI_API_KEYを含むとPushできないため実行時は有効にしてください\n",
    "# os.environ[\"OPENAI_API_KEY\"] = \"*****\"\n",
    "\n",
    "# openAIの機能をclientに代入\n",
    "client = OpenAI()\n",
    "\n",
    "# 対象者のMBTIタイプ\n",
    "user_mbti = \"INTJ\""
   ]
  },
  {
   "cell_type": "code",
   "execution_count": 2,
   "metadata": {},
   "outputs": [],
   "source": [
    "# CSVファイルを読み込み\n",
    "with open('../output.csv', newline='', encoding='utf-8') as csvfile:\n",
    "    reader = csv.DictReader(csvfile)\n",
    "    people = list(reader)"
   ]
  },
  {
   "cell_type": "code",
   "execution_count": 4,
   "metadata": {},
   "outputs": [],
   "source": [
    "def find_best_matches(people, user_mbti, top_n=3):\n",
    "    \n",
    "    persons = \"\"\n",
    "    for person in people:\n",
    "        persons = persons + \\\n",
    "            str(f\"【名前】 {person['Slack表示名']}, \\\n",
    "                【自己紹介】 {person['自己紹介']}, \\\n",
    "                【得意な業界】 {person['業界']}, \\\n",
    "                【関心のある領域】 {person['関心のある領域']}, \\\n",
    "                【協働で大切にしたいこと】 {person['Tech0のPJTで8期の仲間と協働する際に大切にしたいと思うこと']}, \\\n",
    "                【プロジェクト推進で得意なこと/苦手なこと】 {person['PJTをする上で自分が得意なこと・苦手なこと']}, \\\n",
    "                【参加動機や達成したいこと】 {person['Tech0の参加動機と１年後に到達したい・達成したいこと']},\") + \"\\n\"\n",
    "    \n",
    "    prompt = f\"MBTIタイプが{user_mbti}の人物と合う人物を以下から3名選び、それぞれのMBTIタイプを推測してください。\\\n",
    "            また、対象者とペアでプロレスをする際の必殺技の名前も提案してください。\\\n",
    "            対象者は、次の形式に従って、出力してください。項目には余計な記号や装飾（**など）をつけず、名前はそのまま利用し漢字変換は行わないでください。\\\n",
    "            また、指定した形式に正確に従って出力してください。\\\n",
    "            形式の指定はじまり\\n\\\n",
    "                【名前】[名前をそのまま出力]\\n\\\n",
    "                【選定理由】[選定理由をそのまま出力]\\n \\\n",
    "                【推定MBTI】[推定MBTIをそのまま出力]\\n \\\n",
    "                【必殺技】[必殺技の名前をそのまま出力]\\n \\\n",
    "            形式の指定終わり\\n \\\n",
    "            ここから対象者の情報\" + persons\n",
    "\n",
    "    response =  client.chat.completions.create(\n",
    "        model=\"gpt-4o-mini\",\n",
    "        messages=[\n",
    "            {\"role\": \"user\", \"content\": prompt },\n",
    "        ],\n",
    "    )\n",
    "    \n",
    "    # コンテンツを抽出\n",
    "    content = response.choices[0].message.content.strip()  \n",
    "    print(content)\n",
    "    \n",
    "    # 対象者と選定理由を抽出するための正規表現パターン\n",
    "    pattern = r\"【名前】\\s*(.*?)\\s*【選定理由】\\s*(.*?)\\s*【推定MBTI】\\s*(.*?)\\s*【必殺技】\\s*(.*?)\\s*(?=【名前】|$)\"\n",
    "    matches = re.findall(pattern, content, re.DOTALL)\n",
    "\n",
    "    # 結果を配列に格納\n",
    "    result = [{\"名前\": match[0], \"選定理由\": match[1], \"推定MBTI\": match[2], \"必殺技\": match[3]} for match in matches]\n",
    "\n",
    "    return result"
   ]
  },
  {
   "cell_type": "code",
   "execution_count": 5,
   "metadata": {},
   "outputs": [
    {
     "name": "stdout",
     "output_type": "stream",
     "text": [
      "【名前】Tnaka Yasuhiro  \n",
      "【選定理由】Tnaka Yasuhiroはプロジェクト推進や新規事業開発に熱心であり、コミットメントのバランスを取る能力に優れています。この特性から、例えばENTJタイプの人が相性が良いと考えられます。  \n",
      "【推定MBTI】ENTJ  \n",
      "【必殺技】フルスロットル・ストラテジックプラン  \n",
      "\n",
      "【名前】Sugiyama Shoichi  \n",
      "【選定理由】Sugiyama Shoichiは問題整理や決断力に優れ、また他者とのコミュニケーションを重視しています。これがINTJタイプとの相性を高めており、INFPタイプの人と一緒に働くと良好な関係を築けると考えられます。  \n",
      "【推定MBTI】INFP  \n",
      "【必殺技】デシジョン・マスター・コンボ  \n",
      "\n",
      "【名前】Okabe Yoshihide  \n",
      "【選定理由】Okabe Yoshihideは人間関係の構築やアイデアの発散が得意であり、コミュニケーションを重視しているため、INTJの計画性と相反する側面を持ったESFJタイプとの協力に適しています。  \n",
      "【推定MBTI】ESFJ  \n",
      "【必殺技】コミュニケーション・ハーモニー・アタック\n",
      "{'名前': 'Tnaka Yasuhiro', '選定理由': 'Tnaka Yasuhiroはプロジェクト推進や新規事業開発に熱心であり、コミットメントのバランスを取る能力に優れています。この特性から、例えばENTJタイプの人が相性が良いと考えられます。', '推定MBTI': 'ENTJ', '必殺技': 'フルスロットル・ストラテジックプラン'}\n",
      "{'名前': 'Sugiyama Shoichi', '選定理由': 'Sugiyama Shoichiは問題整理や決断力に優れ、また他者とのコミュニケーションを重視しています。これがINTJタイプとの相性を高めており、INFPタイプの人と一緒に働くと良好な関係を築けると考えられます。', '推定MBTI': 'INFP', '必殺技': 'デシジョン・マスター・コンボ'}\n",
      "{'名前': 'Okabe Yoshihide', '選定理由': 'Okabe Yoshihideは人間関係の構築やアイデアの発散が得意であり、コミュニケーションを重視しているため、INTJの計画性と相反する側面を持ったESFJタイプとの協力に適しています。', '推定MBTI': 'ESFJ', '必殺技': 'コミュニケーション・ハーモニー・アタック'}\n"
     ]
    }
   ],
   "source": [
    "# 最適な3人を選択\n",
    "best_matches = find_best_matches(people, user_mbti)\n",
    "\n",
    "# 結果を表示\n",
    "for match in best_matches:\n",
    "     print(match)"
   ]
  }
 ],
 "metadata": {
  "kernelspec": {
   "display_name": "Python 3",
   "language": "python",
   "name": "python3"
  },
  "language_info": {
   "codemirror_mode": {
    "name": "ipython",
    "version": 3
   },
   "file_extension": ".py",
   "mimetype": "text/x-python",
   "name": "python",
   "nbconvert_exporter": "python",
   "pygments_lexer": "ipython3",
   "version": "3.12.3"
  }
 },
 "nbformat": 4,
 "nbformat_minor": 2
}
