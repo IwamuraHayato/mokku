{
 "cells": [
  {
   "cell_type": "code",
   "execution_count": 25,
   "metadata": {},
   "outputs": [],
   "source": [
    "import csv\n",
    "from openai import OpenAI\n",
    "import os\n",
    "import re\n",
    "\n",
    "# OPENAI_API_KEYを含むとPushできないため実行時は有効にしてください\n",
    "# os.environ[\"OPENAI_API_KEY\"] = \"*****\"\n",
    "\n",
    "# openAIの機能をclientに代入\n",
    "client = OpenAI()\n",
    "\n",
    "# 対象者のMBTIタイプ\n",
    "user_mbti = \"INTJ\""
   ]
  },
  {
   "cell_type": "code",
   "execution_count": 26,
   "metadata": {},
   "outputs": [],
   "source": [
    "# CSVファイルを読み込み\n",
    "with open('../output.csv', newline='', encoding='utf-8') as csvfile:\n",
    "    reader = csv.DictReader(csvfile)\n",
    "    people = list(reader)"
   ]
  },
  {
   "cell_type": "code",
   "execution_count": 30,
   "metadata": {},
   "outputs": [],
   "source": [
    "def find_best_matches(people, user_mbti, top_n=3):\n",
    "    prompts = []\n",
    "    persons = \"\"\n",
    "    for person in people:\n",
    "        persons = persons + str(f\"【名前】 {person['Slack表示名']}, 【自己紹介】 {person['自己紹介']}, 【得意な業界】 {person['業界']}, 【関心のある領域】 {person['関心のある領域']}, 【協働で大切にしたいこと】 {person['Tech0のPJTで8期の仲間と協働する際に大切にしたいと思うこと']}, 【プロジェクト推進で得意なこと/苦手なこと】 {person['PJTをする上で自分が得意なこと・苦手なこと']}, 【参加動機や達成したいこと】 {person['Tech0の参加動機と１年後に到達したい・達成したいこと']},\") + \"\\n\"\n",
    "    prompt = f\"MBTIタイプが{user_mbti}の人物と合う人物を以下から3名選んでください。対象者は、名前：,選定理由:形式で出力してください\\n \" + persons\n",
    "\n",
    "\n",
    "    response =  client.chat.completions.create(\n",
    "        model=\"gpt-4o-mini\",\n",
    "        messages=[\n",
    "            {\"role\": \"user\", \"content\": prompt },\n",
    "        ],\n",
    "    )\n",
    "        \n",
    "    # コンテンツを抽出\n",
    "    content = response.choices[0].message.content.strip()\n",
    "    \n",
    "    # 対象者と選定理由を抽出するための正規表現パターン\n",
    "    pattern = r\"\\*\\*名前\\*\\*: ([\\w\\s-]+)\\s+\\*\\*選定理由\\*\\*: ([\\s\\S]+?)(?=\\n\\d|$)\"\n",
    "    # 正規表現による抽出\n",
    "    matches = re.findall(pattern, content)\n",
    "    # 結果を配列に格納\n",
    "    result = [{\"名前\": match[0], \"選定理由\": match[1].strip()} for match in matches]\n",
    "\n",
    "    return result"
   ]
  },
  {
   "cell_type": "code",
   "execution_count": 31,
   "metadata": {},
   "outputs": [
    {
     "name": "stdout",
     "output_type": "stream",
     "text": [
      "以下の3名を選びました。\n",
      "\n",
      "1. **名前**: Takahashi Hiroaki-8  \n",
      "   **選定理由**: 新規事業や起業に興味を持ち、目標に向かって具体的なスキルを身に着けようとする姿勢がINTJの特性に合っています。また、自己成長を重視し、成功する秘訣を分かち合いたいという理念もINTJに共鳴します。\n",
      "\n",
      "2. **名前**: Sugiyama Shoichi-8  \n",
      "   **選定理由**: 複数のバックグラウンドを持ちながら、テクノロジーとのコミュニケーションを図る姿勢が、INTJのロジカルで戦略的な思考に合致しています。また、新規事業開発に従事し、適度な距離感を大事にする姿勢がINTJの特性にマッチします。\n",
      "\n",
      "3. **名前**: Miyazawa Yoshiki-8  \n",
      "   **選定理由**: SaaSプロダクトのPdMとしての経験を持ちつつ、ビジネス領域を超えたTechスキルの習得を目指す姿勢がINTJの行動特性に合っています。分析的思考と戦略的ビジョンを持ち合わせたこの人物は、INTJに共通する特性を体現しています。\n",
      "[{'名前': 'Takahashi Hiroaki-8  \\n  ', '選定理由': '新規事業や起業に興味を持ち、目標に向かって具体的なスキルを身に着けようとする姿勢がINTJの特性に合っています。また、自己成長を重視し、成功する秘訣を分かち合いたいという理念もINTJに共鳴します。'}, {'名前': 'Sugiyama Shoichi-8  \\n  ', '選定理由': '複数のバックグラウンドを持ちながら、テクノロジーとのコミュニケーションを図る姿勢が、INTJのロジカルで戦略的な思考に合致しています。また、新規事業開発に従事し、適度な距離感を大事にする姿勢がINTJの特性にマッチします。'}, {'名前': 'Miyazawa Yoshiki-8  \\n  ', '選定理由': 'SaaSプロダクトのPdMとしての経験を持ちつつ、ビジネス領域を超えたTechスキルの習得を目指す姿勢がINTJの行動特性に合っています。分析的思考と戦略的ビジョンを持ち合わせたこの人物は、INTJに共通する特性を体現しています。'}]\n",
      "{'名前': 'Takahashi Hiroaki-8  \\n  ', '選定理由': '新規事業や起業に興味を持ち、目標に向かって具体的なスキルを身に着けようとする姿勢がINTJの特性に合っています。また、自己成長を重視し、成功する秘訣を分かち合いたいという理念もINTJに共鳴します。'}\n",
      "{'名前': 'Sugiyama Shoichi-8  \\n  ', '選定理由': '複数のバックグラウンドを持ちながら、テクノロジーとのコミュニケーションを図る姿勢が、INTJのロジカルで戦略的な思考に合致しています。また、新規事業開発に従事し、適度な距離感を大事にする姿勢がINTJの特性にマッチします。'}\n",
      "{'名前': 'Miyazawa Yoshiki-8  \\n  ', '選定理由': 'SaaSプロダクトのPdMとしての経験を持ちつつ、ビジネス領域を超えたTechスキルの習得を目指す姿勢がINTJの行動特性に合っています。分析的思考と戦略的ビジョンを持ち合わせたこの人物は、INTJに共通する特性を体現しています。'}\n"
     ]
    }
   ],
   "source": [
    "# 最適な3人を選択\n",
    "best_matches = find_best_matches(people, user_mbti)\n",
    "\n",
    "# 結果を表示\n",
    "for match in best_matches:\n",
    "     print(match)"
   ]
  }
 ],
 "metadata": {
  "kernelspec": {
   "display_name": "Python 3",
   "language": "python",
   "name": "python3"
  },
  "language_info": {
   "codemirror_mode": {
    "name": "ipython",
    "version": 3
   },
   "file_extension": ".py",
   "mimetype": "text/x-python",
   "name": "python",
   "nbconvert_exporter": "python",
   "pygments_lexer": "ipython3",
   "version": "3.12.3"
  }
 },
 "nbformat": 4,
 "nbformat_minor": 2
}
