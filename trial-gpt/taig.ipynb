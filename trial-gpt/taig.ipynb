{
 "cells": [
  {
   "cell_type": "code",
   "execution_count": 28,
   "metadata": {},
   "outputs": [],
   "source": [
    "import csv\n",
    "from openai import OpenAI\n",
    "import os\n",
    "import re\n",
    "\n",
    "# OPENAI_API_KEYを含むとPushできないため実行時は有効にしてください\n",
    "# os.environ[\"OPENAI_API_KEY\"] = \"*****\"\n",
    "\n",
    "# openAIの機能をclientに代入\n",
    "client = OpenAI()\n",
    "\n",
    "# 対象者のMBTIタイプ\n",
    "user_mbti = \"INTJ\""
   ]
  },
  {
   "cell_type": "code",
   "execution_count": 29,
   "metadata": {},
   "outputs": [],
   "source": [
    "# CSVファイルを読み込み\n",
    "with open('output.csv', newline='', encoding='utf-8') as csvfile:\n",
    "    reader = csv.DictReader(csvfile)\n",
    "    people = list(reader)"
   ]
  },
  {
   "cell_type": "code",
   "execution_count": 30,
   "metadata": {},
   "outputs": [],
   "source": [
    "def find_best_matches(people, user_mbti, top_n=3):\n",
    "    prompts = []\n",
    "    persons = \"\"\n",
    "    for person in people:\n",
    "        persons = persons + str(f\"名前: {person['名前']} 得意: {person['得意']}, 不得意: {person['不得意']},\")\n",
    "    prompt = f\"MBTIタイプが{user_mbti}の人物と合う人物を以下から3名選んでください。 \" + persons + \"。対象者は、名前：,選定理由:形式で出力してください\"\n",
    "    response =  client.chat.completions.create(\n",
    "        model=\"gpt-4o-mini\",\n",
    "        messages=[\n",
    "            {\"role\": \"user\", \"content\": prompt },\n",
    "        ],\n",
    "    )\n",
    "        \n",
    "    # コンテンツを抽出\n",
    "    content = response.choices[0].message.content.strip()\n",
    "    print(content)\n",
    "\n",
    "    # 対象者と選定理由を抽出するための正規表現パターン\n",
    "    pattern = r\"対象者は、名前：([^,]+), 選定理由: ([^\\n]+)\"\n",
    "    # 正規表現による抽出\n",
    "    matches = re.findall(pattern, content)\n",
    "    # 結果を配列に格納\n",
    "    result = [{\"名前\": match[0], \"選定理由\": match[1]} for match in matches]\n",
    "\n",
    "    return result"
   ]
  },
  {
   "cell_type": "code",
   "execution_count": 31,
   "metadata": {},
   "outputs": [
    {
     "name": "stdout",
     "output_type": "stream",
     "text": [
      "対象者は、以下の3名です。\n",
      "\n",
      "1. 名前: 田中太郎  \n",
      "   選定理由: 論理的思考が得意で、INTJの人物と共通の思考スタイルを持っています。感情表現が不得意なため、INTJの合理的なアプローチに理解を示す可能性があります。\n",
      "\n",
      "2. 名前: 小林洋介  \n",
      "   選定理由: 戦略的計画を得意とし、INTJの特性である長期的な視点や計画性にマッチします。感情的な対話が不得意なので、理論的な議論が中心のコミュニケーションがしやすいです。\n",
      "\n",
      "3. 名前: 伊藤和也  \n",
      "   選定理由: 技術的な問題解決が得意で、INTJの分析的な特性と相性が良いです。対人スキルが不得意なため、データや論理に基づく議論に特化しやすい環境を提供できます。\n"
     ]
    }
   ],
   "source": [
    "# 最適な3人を選択\n",
    "best_matches = find_best_matches(people, user_mbti)\n",
    "\n",
    "# 結果を表示\n",
    "for match in best_matches:\n",
    "     print(match)"
   ]
  }
 ],
 "metadata": {
  "kernelspec": {
   "display_name": "Python 3",
   "language": "python",
   "name": "python3"
  },
  "language_info": {
   "codemirror_mode": {
    "name": "ipython",
    "version": 3
   },
   "file_extension": ".py",
   "mimetype": "text/x-python",
   "name": "python",
   "nbconvert_exporter": "python",
   "pygments_lexer": "ipython3",
   "version": "3.12.3"
  }
 },
 "nbformat": 4,
 "nbformat_minor": 2
}
