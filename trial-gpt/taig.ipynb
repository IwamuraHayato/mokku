{
 "cells": [
  {
   "cell_type": "code",
   "execution_count": 14,
   "metadata": {},
   "outputs": [],
   "source": [
    "import csv\n",
    "from openai import OpenAI\n",
    "import os\n",
    "import re\n",
    "\n",
    "# OPENAI_API_KEYを含むとPushできないため実行時は有効にしてください\n",
    "# os.environ[\"OPENAI_API_KEY\"] = \"*****\"\n",
    "\n",
    "# openAIの機能をclientに代入\n",
    "client = OpenAI()\n",
    "\n",
    "# 対象者のMBTIタイプ\n",
    "user_mbti = \"INTJ\""
   ]
  },
  {
   "cell_type": "code",
   "execution_count": 15,
   "metadata": {},
   "outputs": [],
   "source": [
    "# CSVファイルを読み込み\n",
    "with open('../output.csv', newline='', encoding='utf-8') as csvfile:\n",
    "    reader = csv.DictReader(csvfile)\n",
    "    people = list(reader)"
   ]
  },
  {
   "cell_type": "code",
   "execution_count": 16,
   "metadata": {},
   "outputs": [],
   "source": [
    "def find_best_matches(people, user_mbti, top_n=3):\n",
    "    prompts = []\n",
    "    persons = \"\"\n",
    "    for person in people:\n",
    "        persons = persons + str(f\"【名前】 {person['Slack表示名']}, 【自己紹介】 {person['自己紹介']}, 【得意な業界】 {person['業界']}, 【関心のある領域】 {person['関心のある領域']}, 【協働で大切にしたいこと】 {person['Tech0のPJTで8期の仲間と協働する際に大切にしたいと思うこと']}, 【プロジェクト推進で得意なこと/苦手なこと】 {person['PJTをする上で自分が得意なこと・苦手なこと']}, 【参加動機や達成したいこと】 {person['Tech0の参加動機と１年後に到達したい・達成したいこと']},\") + \"\\n\"\n",
    "    prompt = f\"MBTIタイプが{user_mbti}の人物と合う人物を以下から3名選んでください。対象者は、名前：,選定理由:形式で出力してください\\n \" + persons\n",
    "\n",
    "\n",
    "    response =  client.chat.completions.create(\n",
    "        model=\"gpt-4o-mini\",\n",
    "        messages=[\n",
    "            {\"role\": \"user\", \"content\": prompt },\n",
    "        ],\n",
    "    )\n",
    "        \n",
    "    # コンテンツを抽出\n",
    "    content = response.choices[0].message.content.strip()\n",
    "    print(content)\n",
    "\n",
    "    # 対象者と選定理由を抽出するための正規表現パターン\n",
    "    pattern = r\"対象者は、名前：([^,]+), 選定理由: ([^\\n]+)\"\n",
    "    # 正規表現による抽出\n",
    "    matches = re.findall(pattern, content)\n",
    "    # 結果を配列に格納\n",
    "    result = [{\"名前\": match[0], \"選定理由\": match[1]} for match in matches]\n",
    "\n",
    "    return result"
   ]
  },
  {
   "cell_type": "code",
   "execution_count": 17,
   "metadata": {},
   "outputs": [
    {
     "name": "stdout",
     "output_type": "stream",
     "text": [
      "以下の3名をINTJ（内向的直観的思考的判断的）タイプの人物と合うと考え、選定しました。\n",
      "\n",
      "1. **名前**: Yasuda Rino-8  \n",
      "   **選定理由**: Yasudaさんは明確な目標を持ち、プロジェクトを当初の目的から逸脱しないよう進行させる得意さがあるため、INTJの論理的かつ計画的に物事を進める性質と合致します。また、ダイナミックな意思決定に苦手意識を持っている点も、より確実な結果を求めるINTJの思考との親和性が見られます。\n",
      "\n",
      "2. **名前**: Iwamura Hayato-8  \n",
      "   **選定理由**: Iwamuraさんは新たな価値創出や生産性向上を意識して参加している点から、INTJの未来志向と合わせて考えを深めている姿勢が見受けられます。また、プログラミングを学びたいという意欲は、自己の成長を重視するINTJの特性にも重なります。\n",
      "\n",
      "3. **名前**: Naito Takuro-8  \n",
      "   **選定理由**: Naitoさんは新規事業創出において技術スキルを活かしたいと考えており、具体的な目標に向かって計画を立てる姿勢がINTJの思考プロセスと一致します。また、オープンで相談できる関係を築こうとする姿勢も、INTJが目指す合理的で効果的なチーム運営に寄与すると思われます。\n"
     ]
    }
   ],
   "source": [
    "# 最適な3人を選択\n",
    "best_matches = find_best_matches(people, user_mbti)\n",
    "\n",
    "# 結果を表示\n",
    "for match in best_matches:\n",
    "     print(match)"
   ]
  }
 ],
 "metadata": {
  "kernelspec": {
   "display_name": "Python 3",
   "language": "python",
   "name": "python3"
  },
  "language_info": {
   "codemirror_mode": {
    "name": "ipython",
    "version": 3
   },
   "file_extension": ".py",
   "mimetype": "text/x-python",
   "name": "python",
   "nbconvert_exporter": "python",
   "pygments_lexer": "ipython3",
   "version": "3.12.3"
  }
 },
 "nbformat": 4,
 "nbformat_minor": 2
}
