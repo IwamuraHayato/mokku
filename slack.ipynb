{
 "cells": [
  {
   "cell_type": "code",
   "execution_count": 1,
   "metadata": {},
   "outputs": [
    {
     "name": "stdout",
     "output_type": "stream",
     "text": [
      "Collecting slack_sdk\n",
      "  Downloading slack_sdk-3.31.0-py2.py3-none-any.whl.metadata (15 kB)\n",
      "Downloading slack_sdk-3.31.0-py2.py3-none-any.whl (289 kB)\n",
      "Installing collected packages: slack_sdk\n",
      "Successfully installed slack_sdk-3.31.0\n",
      "Note: you may need to restart the kernel to use updated packages.\n"
     ]
    }
   ],
   "source": [
    "pip install slack_sdk"
   ]
  },
  {
   "cell_type": "code",
   "execution_count": 4,
   "metadata": {},
   "outputs": [],
   "source": [
    "import os\n",
    "from slack_sdk import WebClient\n",
    "from slack_sdk.errors import SlackApiError"
   ]
  },
  {
   "cell_type": "code",
   "execution_count": 5,
   "metadata": {},
   "outputs": [],
   "source": [
    "import csv\n",
    "from openai import OpenAI\n",
    "import os\n",
    "import re\n",
    "\n",
    "# OPENAI_API_KEYを含むとPushできないため実行時は有効にしてください\n",
    "# os.environ[\"OPENAI_API_KEY\"] = \"*****\"\n",
    "\n",
    "# openAIの機能をclientに代入\n",
    "client = OpenAI()\n",
    "\n",
    "# 対象者のMBTIタイプ\n",
    "user_mbti = \"INTJ\""
   ]
  },
  {
   "cell_type": "code",
   "execution_count": 8,
   "metadata": {},
   "outputs": [],
   "source": [
    "# CSVファイルを読み込み\n",
    "with open('output.csv', newline='', encoding='utf-8') as csvfile:\n",
    "    reader = csv.DictReader(csvfile)\n",
    "    people = list(reader)"
   ]
  },
  {
   "cell_type": "code",
   "execution_count": 9,
   "metadata": {},
   "outputs": [],
   "source": [
    "def find_best_matches(people, user_mbti, top_n=3):\n",
    "    \n",
    "    persons = \"\"\n",
    "    for person in people:\n",
    "        persons = persons + \\\n",
    "            str(f\"【名前】 {person['Slack表示名']}, \\\n",
    "                【自己紹介】 {person['自己紹介']}, \\\n",
    "                【得意な業界】 {person['業界']}, \\\n",
    "                【関心のある領域】 {person['関心のある領域']}, \\\n",
    "                【協働で大切にしたいこと】 {person['Tech0のPJTで8期の仲間と協働する際に大切にしたいと思うこと']}, \\\n",
    "                【プロジェクト推進で得意なこと/苦手なこと】 {person['PJTをする上で自分が得意なこと・苦手なこと']}, \\\n",
    "                【参加動機や達成したいこと】 {person['Tech0の参加動機と１年後に到達したい・達成したいこと']},\") + \"\\n\"\n",
    "    \n",
    "    prompt = f\"MBTIタイプが{user_mbti}の人物と合う人物を以下から3名選び、それぞれのMBTIタイプを推測してください。\\\n",
    "            また、対象者とペアでプロレスをする際の必殺技の名前も提案してください。\\\n",
    "            対象者は、次の形式に従って、出力してください。項目には余計な記号や装飾（**など）をつけず、名前はそのまま利用し漢字変換は行わないでください。\\\n",
    "            また、指定した形式に正確に従って出力してください。\\\n",
    "            形式の指定はじまり\\n\\\n",
    "                【名前】[名前をそのまま出力]\\n\\\n",
    "                【選定理由】[選定理由をそのまま出力]\\n \\\n",
    "                【推定MBTI】[推定MBTIをそのまま出力]\\n \\\n",
    "                【必殺技】[必殺技の名前をそのまま出力]\\n \\\n",
    "            形式の指定終わり\\n \\\n",
    "            ここから対象者の情報\" + persons\n",
    "\n",
    "    response =  client.chat.completions.create(\n",
    "        model=\"gpt-4o-mini\",\n",
    "        messages=[\n",
    "            {\"role\": \"user\", \"content\": prompt },\n",
    "        ],\n",
    "    )\n",
    "    \n",
    "    # コンテンツを抽出\n",
    "    content = response.choices[0].message.content.strip()  \n",
    "    print(content)\n",
    "    \n",
    "    # 対象者と選定理由を抽出するための正規表現パターン\n",
    "    pattern = r\"【名前】\\s*(.*?)\\s*【選定理由】\\s*(.*?)\\s*【推定MBTI】\\s*(.*?)\\s*【必殺技】\\s*(.*?)\\s*(?=【名前】|$)\"\n",
    "    matches = re.findall(pattern, content, re.DOTALL)\n",
    "\n",
    "    # 結果を配列に格納\n",
    "    result = [{\"名前\": match[0], \"選定理由\": match[1], \"推定MBTI\": match[2], \"必殺技\": match[3]} for match in matches]\n",
    "\n",
    "    return result"
   ]
  },
  {
   "cell_type": "code",
   "execution_count": 13,
   "metadata": {},
   "outputs": [
    {
     "ename": "NameError",
     "evalue": "name 'content' is not defined",
     "output_type": "error",
     "traceback": [
      "\u001b[0;31m---------------------------------------------------------------------------\u001b[0m",
      "\u001b[0;31mNameError\u001b[0m                                 Traceback (most recent call last)",
      "Cell \u001b[0;32mIn[13], line 1\u001b[0m\n\u001b[0;32m----> 1\u001b[0m \u001b[38;5;28mprint\u001b[39m(\u001b[43mcontent\u001b[49m)\n",
      "\u001b[0;31mNameError\u001b[0m: name 'content' is not defined"
     ]
    }
   ],
   "source": []
  },
  {
   "cell_type": "code",
   "execution_count": 10,
   "metadata": {},
   "outputs": [
    {
     "name": "stdout",
     "output_type": "stream",
     "text": [
      "【名前】 Tnaka Yasuhiro-8  \n",
      "【選定理由】 Tnakaは新しい技術を学び、自分でモックを作りたいという意欲を持っているので、テクノロジーに関心が高く、プロジェクトの推進や進行管理を重視するINTJと相性が良い。  \n",
      "【推定MBTI】 ENFP  \n",
      "【必殺技】 \"未来の橋渡し\"  \n",
      "\n",
      "【名前】 Sugiyama Shoichi-8  \n",
      "【選定理由】 Sugiyamaは決断力と進行の得意分野を持っており、リーダーシップを発揮できる要素があるため、INTJの戦略家としての特性を生かしやすい。  \n",
      "【推定MBTI】 ENTJ  \n",
      "【必殺技】 \"決断の一撃\"  \n",
      "\n",
      "【名前】 Takahashi Hiroaki-8  \n",
      "【選定理由】 Takahashiは資料作りの得意さから、情報の整理や構造化を重視する点でINTJと共通し、プロジェクトを進めるための策を考える隙間がある。  \n",
      "【推定MBTI】 INTJ  \n",
      "【必殺技】 \"論理の渦\"\n",
      "{'名前': 'Tnaka Yasuhiro-8', '選定理由': 'Tnakaは新しい技術を学び、自分でモックを作りたいという意欲を持っているので、テクノロジーに関心が高く、プロジェクトの推進や進行管理を重視するINTJと相性が良い。', '推定MBTI': 'ENFP', '必殺技': '\"未来の橋渡し\"'}\n",
      "{'名前': 'Sugiyama Shoichi-8', '選定理由': 'Sugiyamaは決断力と進行の得意分野を持っており、リーダーシップを発揮できる要素があるため、INTJの戦略家としての特性を生かしやすい。', '推定MBTI': 'ENTJ', '必殺技': '\"決断の一撃\"'}\n",
      "{'名前': 'Takahashi Hiroaki-8', '選定理由': 'Takahashiは資料作りの得意さから、情報の整理や構造化を重視する点でINTJと共通し、プロジェクトを進めるための策を考える隙間がある。', '推定MBTI': 'INTJ', '必殺技': '\"論理の渦\"'}\n"
     ]
    }
   ],
   "source": [
    "# 最適な3人を選択\n",
    "best_matches = find_best_matches(people, user_mbti)\n",
    "\n",
    "# 結果を表示\n",
    "for match in best_matches:\n",
    "     print(match)"
   ]
  },
  {
   "cell_type": "code",
   "execution_count": 16,
   "metadata": {},
   "outputs": [
    {
     "data": {
      "text/plain": [
       "'Tnaka Yasuhiro-8'"
      ]
     },
     "execution_count": 16,
     "metadata": {},
     "output_type": "execute_result"
    }
   ],
   "source": [
    "best_matches[0]['名前']"
   ]
  },
  {
   "cell_type": "code",
   "execution_count": 18,
   "metadata": {},
   "outputs": [],
   "source": [
    "import streamlit as st\n",
    "\n",
    "# Slackのユーザー名を指定する\n",
    "user_name = best_matches[0]['名前']  # 送信先のSlackハンドル名\n",
    "\n",
    "# ワークスペースIDを指定\n",
    "workspace_id = \"TXXXXXXXX\"  # ワークスペースIDを指定\n",
    "\n",
    "# Slack DMのDeep Linkを生成（ワークスペースを指定）\n",
    "slack_deep_link = f\"https://slack.com/app_redirect?team={workspace_id}&channel=@{user_name}\"\n",
    "\n",
    "# ボタンをクリックするとSlackのDMウィンドウが指定したワークスペースで立ち上がる\n",
    "if st.button('SlackでDMを送信'):\n",
    "    st.markdown(f\"[{user_name}にDMを送る]({slack_deep_link})\", unsafe_allow_html=True)"
   ]
  }
 ],
 "metadata": {
  "kernelspec": {
   "display_name": "webapp-env",
   "language": "python",
   "name": "python3"
  },
  "language_info": {
   "codemirror_mode": {
    "name": "ipython",
    "version": 3
   },
   "file_extension": ".py",
   "mimetype": "text/x-python",
   "name": "python",
   "nbconvert_exporter": "python",
   "pygments_lexer": "ipython3",
   "version": "3.12.5"
  }
 },
 "nbformat": 4,
 "nbformat_minor": 2
}
